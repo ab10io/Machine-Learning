{
 "cells": [
  {
   "cell_type": "code",
   "execution_count": 1,
   "metadata": {
    "collapsed": true
   },
   "outputs": [],
   "source": [
    "import sklearn\n",
    "import numpy\n",
    "import pandas as pd\n",
    "from sklearn.svm import SVC\n",
    "from sklearn import svm"
   ]
  },
  {
   "cell_type": "code",
   "execution_count": 4,
   "metadata": {
    "collapsed": true
   },
   "outputs": [],
   "source": [
    "f=open(r\"C:\\Users\\abhinav\\Desktop\\ML\\svm_data\")"
   ]
  },
  {
   "cell_type": "code",
   "execution_count": 5,
   "metadata": {
    "collapsed": true
   },
   "outputs": [],
   "source": [
    "X=[]\n",
    "Y=[]"
   ]
  },
  {
   "cell_type": "code",
   "execution_count": 6,
   "metadata": {
    "collapsed": true
   },
   "outputs": [],
   "source": [
    "for line in f:\n",
    "    comps=line.strip().split('\\t')\n",
    "    x=[float(comps[0]),float(comps[1])]\n",
    "    y=float(comps[2])\n",
    "    X.append(x)\n",
    "    Y.append(y)"
   ]
  },
  {
   "cell_type": "code",
   "execution_count": 7,
   "metadata": {},
   "outputs": [
    {
     "data": {
      "text/plain": [
       "array([40, 41])"
      ]
     },
     "execution_count": 7,
     "metadata": {},
     "output_type": "execute_result"
    }
   ],
   "source": [
    "X=numpy.asarray(X)\n",
    "Y=numpy.asarray(Y)\n",
    "clf = SVC()\n",
    "clf.fit(X, Y) \n",
    "clf.support_vectors_\n",
    "clf.support_ \n",
    "clf.n_support_"
   ]
  },
  {
   "cell_type": "code",
   "execution_count": 11,
   "metadata": {},
   "outputs": [
    {
     "data": {
      "text/plain": [
       "array([[ -1.16101165,   8.39369078],\n",
       "       [  2.34752767,   4.5295017 ],\n",
       "       [ 12.11631344,  17.70352844]])"
      ]
     },
     "execution_count": 11,
     "metadata": {},
     "output_type": "execute_result"
    }
   ],
   "source": [
    "clf1 = svm.SVC(kernel='linear',degree=3)\n",
    "clf1.fit(X, Y)\n",
    "clf1.n_support_\n",
    "clf1.support_vectors_"
   ]
  },
  {
   "cell_type": "code",
   "execution_count": 13,
   "metadata": {},
   "outputs": [
    {
     "data": {
      "text/plain": [
       "array([[ -1.16101165,   8.39369078],\n",
       "       [ 12.11631344,  17.70352844],\n",
       "       [ 19.96749215,  11.77640679]])"
      ]
     },
     "execution_count": 13,
     "metadata": {},
     "output_type": "execute_result"
    }
   ],
   "source": [
    "clf1 = svm.SVC(kernel='poly',degree=3)\n",
    "clf1.fit(X, Y)\n",
    "clf1.n_support_\n",
    "clf1.support_vectors_"
   ]
  },
  {
   "cell_type": "code",
   "execution_count": 18,
   "metadata": {},
   "outputs": [
    {
     "data": {
      "text/plain": [
       "array([[ -3.56100783,  -3.46769022],\n",
       "       [  0.15461167,  -3.97509154],\n",
       "       [ -1.16101165,   8.39369078],\n",
       "       [ -3.15456936,   4.87585942],\n",
       "       [  1.4776166 ,  -0.45193135],\n",
       "       [ -0.55918139,   3.66067198],\n",
       "       [ -1.2771354 ,  -3.22416291],\n",
       "       [ -6.93750893,   0.7020688 ],\n",
       "       [  2.45388968,   2.91046677],\n",
       "       [  0.0990604 ,   0.30454479],\n",
       "       [  5.34117303,  -3.19553617],\n",
       "       [ -3.90321337,   1.77474123],\n",
       "       [ -4.19302245,   3.52558089],\n",
       "       [ -0.97077391,  -0.62661754],\n",
       "       [  1.16718787,  -1.45563869],\n",
       "       [ -0.70786929,  -1.56567292],\n",
       "       [  2.34752767,   4.5295017 ],\n",
       "       [  2.75051075,  -1.54666104],\n",
       "       [ -2.99369536,  -2.22576937],\n",
       "       [ -0.44405042,  -2.11766743],\n",
       "       [  0.75865088,   0.87614647],\n",
       "       [  4.07654249,  -3.39156092],\n",
       "       [ -2.45506843,   3.38072582],\n",
       "       [  4.66628721,  -3.86040583],\n",
       "       [  1.14488806,   1.51273535],\n",
       "       [ -2.80558959,   2.81707963],\n",
       "       [ -0.63717523,   5.45003927],\n",
       "       [  1.38943048,  -3.19888517],\n",
       "       [  0.85999142,  -3.41310613],\n",
       "       [  2.39589476,  -3.3279586 ],\n",
       "       [  3.80744639,   0.12394229],\n",
       "       [  3.48749107,   1.20840668],\n",
       "       [ -0.8910801 ,  -6.18625792],\n",
       "       [  6.58416102,  -1.23127843],\n",
       "       [  4.5222199 ,   0.96629386],\n",
       "       [ -2.70257823,  -1.00432371],\n",
       "       [ -2.19726092,   0.38505467],\n",
       "       [  0.83185096,  -3.17979999],\n",
       "       [  1.11662869,   4.87628322],\n",
       "       [  0.94453556,   2.39075841],\n",
       "       [ 26.38198859,  13.13710443],\n",
       "       [ 17.98936343,  16.79219885],\n",
       "       [ 24.13128841,  16.92140583],\n",
       "       [ 24.30014502,  20.85760634],\n",
       "       [ 23.34207187,  18.59481242],\n",
       "       [ 17.09125089,  23.54584334],\n",
       "       [ 21.37613159,  17.73759055],\n",
       "       [ 14.45972445,  20.55917163],\n",
       "       [ 22.49270147,  20.00417157],\n",
       "       [ 18.03525937,  25.30673408],\n",
       "       [ 23.17155386,  22.42925373],\n",
       "       [ 24.75506125,  22.64108732],\n",
       "       [ 18.7647688 ,  18.48235482],\n",
       "       [ 16.36616096,  21.25374632],\n",
       "       [ 15.01045808,  22.89235813],\n",
       "       [ 24.70521056,  20.10220371],\n",
       "       [ 22.66666107,  19.93731204],\n",
       "       [ 18.2988937 ,  23.18265993],\n",
       "       [ 21.3037919 ,  20.13939741],\n",
       "       [ 21.10535346,  21.83375429],\n",
       "       [ 24.98888631,  24.92953468],\n",
       "       [ 19.86990382,  18.3512234 ],\n",
       "       [ 12.11631344,  17.70352844],\n",
       "       [ 20.88924528,  13.23131921],\n",
       "       [ 16.68533896,  21.85414468],\n",
       "       [ 22.05325144,  18.85350176],\n",
       "       [ 17.83359363,  19.37521317],\n",
       "       [ 16.1503164 ,  18.76038165],\n",
       "       [ 23.59448248,  16.20507524],\n",
       "       [ 16.3081353 ,  18.35827197],\n",
       "       [ 17.68145729,  14.52985833],\n",
       "       [ 21.9292904 ,  14.66018276],\n",
       "       [ 23.91229536,  27.20516869],\n",
       "       [ 21.29563533,  14.70486087],\n",
       "       [ 22.91944322,  20.80616541],\n",
       "       [ 19.96749215,  11.77640679],\n",
       "       [ 20.85188801,  23.04428322],\n",
       "       [ 18.68355334,  14.65033478],\n",
       "       [ 21.02418499,  19.76702944],\n",
       "       [ 18.68222051,  25.13705345],\n",
       "       [ 21.57289916,  23.29297804]])"
      ]
     },
     "execution_count": 18,
     "metadata": {},
     "output_type": "execute_result"
    }
   ],
   "source": [
    "for kernel in ('poly', 'linear','rbf'):\n",
    "    clf1 = svm.SVC(kernel=kernel,degree=3)\n",
    "    clf1.fit(X, Y)\n",
    "clf1.n_support_\n",
    "clf1.support_vectors_"
   ]
  },
  {
   "cell_type": "code",
   "execution_count": null,
   "metadata": {
    "collapsed": true
   },
   "outputs": [],
   "source": []
  }
 ],
 "metadata": {
  "kernelspec": {
   "display_name": "Python 3",
   "language": "python",
   "name": "python3"
  },
  "language_info": {
   "codemirror_mode": {
    "name": "ipython",
    "version": 3
   },
   "file_extension": ".py",
   "mimetype": "text/x-python",
   "name": "python",
   "nbconvert_exporter": "python",
   "pygments_lexer": "ipython3",
   "version": "3.6.1"
  }
 },
 "nbformat": 4,
 "nbformat_minor": 2
}
